{
  "nbformat": 4,
  "nbformat_minor": 0,
  "metadata": {
    "colab": {
      "provenance": [],
      "authorship_tag": "ABX9TyNe7QKxml8jbnDV0XetOJrE",
      "include_colab_link": true
    },
    "kernelspec": {
      "name": "python3",
      "display_name": "Python 3"
    },
    "language_info": {
      "name": "python"
    }
  },
  "cells": [
    {
      "cell_type": "markdown",
      "metadata": {
        "id": "view-in-github",
        "colab_type": "text"
      },
      "source": [
        "<a href=\"https://colab.research.google.com/github/167146/AI-Coursework-2025/blob/main/Python_Refreshener.ipynb\" target=\"_parent\"><img src=\"https://colab.research.google.com/assets/colab-badge.svg\" alt=\"Open In Colab\"/></a>"
      ]
    },
    {
      "cell_type": "code",
      "execution_count": null,
      "metadata": {
        "id": "gAM7UNB7oZ6x"
      },
      "outputs": [],
      "source": []
    },
    {
      "cell_type": "code",
      "source": [
        "days=int(input(\"Enter number of days:\"))\n",
        "\n",
        "#calculate the number of seconds using the number of days given\n",
        "seconds=days*24*60*60\n",
        "\n",
        "#print out the number of seconds\n",
        "print(f\"There are {seconds} seconds in {days} days\")"
      ],
      "metadata": {
        "colab": {
          "base_uri": "https://localhost:8080/"
        },
        "id": "NFTXh0MXp3lK",
        "outputId": "22cdffdd-9518-4d94-b9d6-5b169084ac82"
      },
      "execution_count": 3,
      "outputs": [
        {
          "output_type": "stream",
          "name": "stdout",
          "text": [
            "Enter number of days:7\n",
            "There are 604800 seconds in 7 days\n"
          ]
        }
      ]
    }
  ]
}