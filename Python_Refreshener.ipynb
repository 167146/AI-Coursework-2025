{
  "nbformat": 4,
  "nbformat_minor": 0,
  "metadata": {
    "colab": {
      "provenance": [],
      "authorship_tag": "ABX9TyO317bfAtEJqTG0d0hC5M2h",
      "include_colab_link": true
    },
    "kernelspec": {
      "name": "python3",
      "display_name": "Python 3"
    },
    "language_info": {
      "name": "python"
    }
  },
  "cells": [
    {
      "cell_type": "markdown",
      "metadata": {
        "id": "view-in-github",
        "colab_type": "text"
      },
      "source": [
        "<a href=\"https://colab.research.google.com/github/167146/AI-Coursework-2025/blob/main/Python_Refreshener.ipynb\" target=\"_parent\"><img src=\"https://colab.research.google.com/assets/colab-badge.svg\" alt=\"Open In Colab\"/></a>"
      ]
    },
    {
      "cell_type": "code",
      "execution_count": null,
      "metadata": {
        "id": "gAM7UNB7oZ6x"
      },
      "outputs": [],
      "source": []
    },
    {
      "cell_type": "code",
      "source": [
        "days=int(input(\"Enter number of days:\"))\n",
        "\n",
        "\n",
        "\n",
        "#print out the number of seconds\n",
        "print(\"There are {seconds} seconds in {days} days\".format(seconds=days*24*60*60, days=days))"
      ],
      "metadata": {
        "colab": {
          "base_uri": "https://localhost:8080/"
        },
        "id": "NFTXh0MXp3lK",
        "outputId": "05de2eae-3d1e-451e-b7f1-22934c67b673"
      },
      "execution_count": null,
      "outputs": [
        {
          "output_type": "stream",
          "name": "stdout",
          "text": [
            "Enter number of days:7\n",
            "There are 604800 seconds in 7 days\n"
          ]
        }
      ]
    },
    {
      "cell_type": "markdown",
      "source": [],
      "metadata": {
        "id": "bNHhrkQJMbXG"
      }
    },
    {
      "cell_type": "code",
      "source": [
        "#input radius\n",
        "radius=float(input(\"Enter radius:\"))\n",
        "\n",
        "#calculate volume of sphere\n",
        "print(\"The volume of the sphere is{volume}\".format(volume=4/3*3.14*radius**3))"
      ],
      "metadata": {
        "colab": {
          "base_uri": "https://localhost:8080/"
        },
        "id": "Wgn29HmKH5nx",
        "outputId": "03e29709-3220-4ed4-cf2c-484d54d731fa"
      },
      "execution_count": null,
      "outputs": [
        {
          "output_type": "stream",
          "name": "stdout",
          "text": [
            "Enter radius:4\n",
            "The volume of the sphere is267.94666666666666\n"
          ]
        }
      ]
    },
    {
      "cell_type": "code",
      "source": [
        "#input length of square\n",
        "length=int(input(\"Enter length:\"))\n",
        "\n",
        "def area_square(length):\n",
        "  return length**2\n",
        "\n",
        "def perimeter_square(length):\n",
        "  return 4*length\n",
        "\n",
        "print(\"The area of the square is {area}\".format(area=area_square(length)))\n",
        "print(\"The perimeter of the square is {perimeter}\".format(perimeter=perimeter_square(length)))"
      ],
      "metadata": {
        "colab": {
          "base_uri": "https://localhost:8080/"
        },
        "id": "WLBFVoUXLC1z",
        "outputId": "aedb840b-dd69-4c38-c9ee-be011c306131"
      },
      "execution_count": null,
      "outputs": [
        {
          "output_type": "stream",
          "name": "stdout",
          "text": [
            "Enter length:4\n",
            "The area of the square is 16\n",
            "The perimeter of the square is 16\n"
          ]
        }
      ]
    },
    {
      "cell_type": "code",
      "source": [
        "#input character\n",
        "character=(input(\"Enter character:\"))\n",
        "\n",
        "#Check if the character is uppercase or lowercase\n",
        "\n",
        "if(character>='a' and character<='z'):\n",
        "  print(\"The character is a lowercase letter\")\n",
        "elif(character>='A' and character<='Z'):\n",
        "  print(\"The character is an uppercase letter\")"
      ],
      "metadata": {
        "colab": {
          "base_uri": "https://localhost:8080/"
        },
        "id": "qcbEovzPPecl",
        "outputId": "9adde285-695b-4476-be6d-752068f6812e"
      },
      "execution_count": null,
      "outputs": [
        {
          "output_type": "stream",
          "name": "stdout",
          "text": [
            "Enter character:A\n",
            "The character is an uppercase letter\n"
          ]
        }
      ]
    },
    {
      "cell_type": "code",
      "source": [
        "#initialize variables\n",
        "x=0\n",
        "y=20\n",
        "#repeat until y is less than 6\n",
        "if y>=6:\n",
        "  y=y-4\n",
        "  x=x+(2/y)\n",
        "  #display x\n",
        "  print(\"The value of x is:\",x)\n",
        "\n"
      ],
      "metadata": {
        "id": "KmQD7yk2VDjQ",
        "outputId": "e516949e-3eec-49b1-9dba-171e707d8518",
        "colab": {
          "base_uri": "https://localhost:8080/"
        }
      },
      "execution_count": null,
      "outputs": [
        {
          "output_type": "stream",
          "name": "stdout",
          "text": [
            "The value of x is: 0.125\n"
          ]
        }
      ]
    },
    {
      "cell_type": "code",
      "source": [
        "#Initialize empty list\n",
        "values=[]\n",
        "i=0\n",
        "\n",
        "#Loop with 5 numbers\n",
        "while i<5:\n",
        "  value=float(input(f\"Enter value {i+1}:\"))\n",
        "  values.append(value)\n",
        "  i+=1\n",
        "\n",
        "#Average\n",
        "average=sum(values)/len(values)\n",
        "\n",
        "#Result\n",
        "print(\"The values entered are:\",values)\n",
        "print(f\"The average of the values is {average}\")"
      ],
      "metadata": {
        "colab": {
          "base_uri": "https://localhost:8080/"
        },
        "id": "uX-NnQaCA2Gk",
        "outputId": "775dfb75-32ce-48f9-9d22-8b1cbf73aff6"
      },
      "execution_count": 1,
      "outputs": [
        {
          "output_type": "stream",
          "name": "stdout",
          "text": [
            "Enter value 1:4\n",
            "Enter value 2:5\n",
            "Enter value 3:6\n",
            "Enter value 4:7\n",
            "Enter value 5:8\n",
            "The values entered are: [4.0, 5.0, 6.0, 7.0, 8.0]\n",
            "The average of the values is 6.0\n"
          ]
        }
      ]
    }
  ]
}