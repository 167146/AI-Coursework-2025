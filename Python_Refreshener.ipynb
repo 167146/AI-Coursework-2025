{
  "nbformat": 4,
  "nbformat_minor": 0,
  "metadata": {
    "colab": {
      "provenance": [],
      "authorship_tag": "ABX9TyMZv62S3js3Ujzs8+3H1NjV",
      "include_colab_link": true
    },
    "kernelspec": {
      "name": "python3",
      "display_name": "Python 3"
    },
    "language_info": {
      "name": "python"
    }
  },
  "cells": [
    {
      "cell_type": "markdown",
      "metadata": {
        "id": "view-in-github",
        "colab_type": "text"
      },
      "source": [
        "<a href=\"https://colab.research.google.com/github/167146/AI-Coursework-2025/blob/main/Python_Refreshener.ipynb\" target=\"_parent\"><img src=\"https://colab.research.google.com/assets/colab-badge.svg\" alt=\"Open In Colab\"/></a>"
      ]
    },
    {
      "cell_type": "code",
      "execution_count": null,
      "metadata": {
        "id": "gAM7UNB7oZ6x"
      },
      "outputs": [],
      "source": []
    },
    {
      "cell_type": "code",
      "source": [
        "days=int(input(\"Enter number of days:\"))\n",
        "\n",
        "\n",
        "\n",
        "#print out the number of seconds\n",
        "print(\"There are {seconds} seconds in {days} days\".format(seconds=days*24*60*60, days=days))"
      ],
      "metadata": {
        "colab": {
          "base_uri": "https://localhost:8080/"
        },
        "id": "NFTXh0MXp3lK",
        "outputId": "05de2eae-3d1e-451e-b7f1-22934c67b673"
      },
      "execution_count": 4,
      "outputs": [
        {
          "output_type": "stream",
          "name": "stdout",
          "text": [
            "Enter number of days:7\n",
            "There are 604800 seconds in 7 days\n"
          ]
        }
      ]
    },
    {
      "cell_type": "markdown",
      "source": [],
      "metadata": {
        "id": "bNHhrkQJMbXG"
      }
    },
    {
      "cell_type": "code",
      "source": [
        "#input radius\n",
        "radius=float(input(\"Enter radius:\"))\n",
        "\n",
        "#calculate volume of sphere\n",
        "print(\"The volume of the sphere is{volume}\".format(volume=4/3*3.14*radius**3))"
      ],
      "metadata": {
        "colab": {
          "base_uri": "https://localhost:8080/"
        },
        "id": "Wgn29HmKH5nx",
        "outputId": "03e29709-3220-4ed4-cf2c-484d54d731fa"
      },
      "execution_count": 7,
      "outputs": [
        {
          "output_type": "stream",
          "name": "stdout",
          "text": [
            "Enter radius:4\n",
            "The volume of the sphere is267.94666666666666\n"
          ]
        }
      ]
    },
    {
      "cell_type": "code",
      "source": [
        "#input length of square\n",
        "length=int(input(\"Enter length:\"))\n",
        "\n",
        "def area_square(length):\n",
        "  return length**2\n",
        "\n",
        "def perimeter_square(length):\n",
        "  return 4*length\n",
        "\n",
        "print(\"The area of the square is {area}\".format(area=area_square(length)))\n",
        "print(\"The perimeter of the square is {perimeter}\".format(perimeter=perimeter_square(length)))"
      ],
      "metadata": {
        "colab": {
          "base_uri": "https://localhost:8080/"
        },
        "id": "WLBFVoUXLC1z",
        "outputId": "aedb840b-dd69-4c38-c9ee-be011c306131"
      },
      "execution_count": 9,
      "outputs": [
        {
          "output_type": "stream",
          "name": "stdout",
          "text": [
            "Enter length:4\n",
            "The area of the square is 16\n",
            "The perimeter of the square is 16\n"
          ]
        }
      ]
    }
  ]
}